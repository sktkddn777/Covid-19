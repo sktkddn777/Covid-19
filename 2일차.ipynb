{
  "nbformat": 4,
  "nbformat_minor": 0,
  "metadata": {
    "colab": {
      "name": "2일차.ipynb",
      "provenance": [],
      "collapsed_sections": [],
      "authorship_tag": "ABX9TyOGWZv96iKE7st9LGYXOC+3",
      "include_colab_link": true
    },
    "kernelspec": {
      "name": "python3",
      "display_name": "Python 3"
    }
  },
  "cells": [
    {
      "cell_type": "markdown",
      "metadata": {
        "id": "view-in-github",
        "colab_type": "text"
      },
      "source": [
        "<a href=\"https://colab.research.google.com/github/sktkddn777/Covid-19/blob/master/2%EC%9D%BC%EC%B0%A8.ipynb\" target=\"_parent\"><img src=\"https://colab.research.google.com/assets/colab-badge.svg\" alt=\"Open In Colab\"/></a>"
      ]
    },
    {
      "cell_type": "markdown",
      "metadata": {
        "id": "q7LjswaZN-5Y"
      },
      "source": [
        "다중회귀"
      ]
    },
    {
      "cell_type": "code",
      "metadata": {
        "colab": {
          "base_uri": "https://localhost:8080/"
        },
        "id": "aE4w4mngN7yE",
        "outputId": "bf3165dd-4427-4eb9-ce10-aa86d18227e9"
      },
      "source": [
        "import pandas as pd\r\n",
        "df = pd.read_csv('https://bit.ly/perch_csv') #농어의 데이터 여러가지가 주소에 csv형태로 있음 \r\n",
        "perch_full = df.to_numpy()\r\n",
        "print(perch_full)\r\n",
        "#length, height, width"
      ],
      "execution_count": null,
      "outputs": [
        {
          "output_type": "stream",
          "text": [
            "[[ 8.4   2.11  1.41]\n",
            " [13.7   3.53  2.  ]\n",
            " [15.    3.82  2.43]\n",
            " [16.2   4.59  2.63]\n",
            " [17.4   4.59  2.94]\n",
            " [18.    5.22  3.32]\n",
            " [18.7   5.2   3.12]\n",
            " [19.    5.64  3.05]\n",
            " [19.6   5.14  3.04]\n",
            " [20.    5.08  2.77]\n",
            " [21.    5.69  3.56]\n",
            " [21.    5.92  3.31]\n",
            " [21.    5.69  3.67]\n",
            " [21.3   6.38  3.53]\n",
            " [22.    6.11  3.41]\n",
            " [22.    5.64  3.52]\n",
            " [22.    6.11  3.52]\n",
            " [22.    5.88  3.52]\n",
            " [22.    5.52  4.  ]\n",
            " [22.5   5.86  3.62]\n",
            " [22.5   6.79  3.62]\n",
            " [22.7   5.95  3.63]\n",
            " [23.    5.22  3.63]\n",
            " [23.5   6.28  3.72]\n",
            " [24.    7.29  3.72]\n",
            " [24.    6.38  3.82]\n",
            " [24.6   6.73  4.17]\n",
            " [25.    6.44  3.68]\n",
            " [25.6   6.56  4.24]\n",
            " [26.5   7.17  4.14]\n",
            " [27.3   8.32  5.14]\n",
            " [27.5   7.17  4.34]\n",
            " [27.5   7.05  4.34]\n",
            " [27.5   7.28  4.57]\n",
            " [28.    7.82  4.2 ]\n",
            " [28.7   7.59  4.64]\n",
            " [30.    7.62  4.77]\n",
            " [32.8  10.03  6.02]\n",
            " [34.5  10.26  6.39]\n",
            " [35.   11.49  7.8 ]\n",
            " [36.5  10.88  6.86]\n",
            " [36.   10.61  6.74]\n",
            " [37.   10.84  6.26]\n",
            " [37.   10.57  6.37]\n",
            " [39.   11.14  7.49]\n",
            " [39.   11.14  6.  ]\n",
            " [39.   12.43  7.35]\n",
            " [40.   11.93  7.11]\n",
            " [40.   11.73  7.22]\n",
            " [40.   12.38  7.46]\n",
            " [40.   11.14  6.63]\n",
            " [42.   12.8   6.87]\n",
            " [43.   11.93  7.28]\n",
            " [43.   12.51  7.42]\n",
            " [43.5  12.6   8.14]\n",
            " [44.   12.49  7.6 ]]\n"
          ],
          "name": "stdout"
        }
      ]
    },
    {
      "cell_type": "code",
      "metadata": {
        "id": "hMnLPEX2OocH"
      },
      "source": [
        "import numpy as np\r\n",
        "perch_weight = np.array([5.9, 32.0, 40.0, 51.5, 70.0, 100.0, 78.0, 80.0, 85.0, 85.0, 110.0,\r\n",
        "       115.0, 125.0, 130.0, 120.0, 120.0, 130.0, 135.0, 110.0, 130.0,\r\n",
        "       150.0, 145.0, 150.0, 170.0, 225.0, 145.0, 188.0, 180.0, 197.0,\r\n",
        "       218.0, 300.0, 260.0, 265.0, 250.0, 250.0, 300.0, 320.0, 514.0,\r\n",
        "       556.0, 840.0, 685.0, 700.0, 700.0, 690.0, 900.0, 650.0, 820.0,\r\n",
        "       850.0, 900.0, 1015.0, 820.0, 1100.0, 1000.0, 1100.0, 1000.0,\r\n",
        "       1000.0])"
      ],
      "execution_count": null,
      "outputs": []
    },
    {
      "cell_type": "code",
      "metadata": {
        "id": "4h5Oxu2YO9fn"
      },
      "source": [
        "from sklearn.model_selection import train_test_split\r\n",
        "train_input, test_input, train_target, test_target = train_test_split(perch_full, perch_weight, random_state=42)"
      ],
      "execution_count": null,
      "outputs": []
    },
    {
      "cell_type": "markdown",
      "metadata": {
        "id": "R8YxR2KHPQ39"
      },
      "source": [
        "사이킷런 변환기\r\n",
        "PolynomialFeatures Class\r\n",
        "\r\n",
        "변환기는 입력데이터를 변환하는데 타겟데이터가 필요하지 않는다.\r\n",
        "fit()에 입력데이터만 전달\r\n",
        "2개의 특성을 가진 샘플이 6개의 특성을 가진 샘플로 바뀜"
      ]
    },
    {
      "cell_type": "code",
      "metadata": {
        "colab": {
          "base_uri": "https://localhost:8080/"
        },
        "id": "DYLuKRGmPd7r",
        "outputId": "a956c36f-7202-44bf-9cf7-375160234ad8"
      },
      "source": [
        "from sklearn.preprocessing import PolynomialFeatures\r\n",
        "poly = PolynomialFeatures()\r\n",
        "poly.fit([[2,3]])\r\n",
        "print(poly.transform([[2,3]]))"
      ],
      "execution_count": null,
      "outputs": [
        {
          "output_type": "stream",
          "text": [
            "[[1. 2. 3. 4. 6. 9.]]\n"
          ],
          "name": "stdout"
        }
      ]
    },
    {
      "cell_type": "markdown",
      "metadata": {
        "id": "MzUScPuZQpBp"
      },
      "source": [
        "PolynomialFeatures -> 각 특성 제곱한 항을 추가(4, 9) \r\n",
        "2와 3을 곱한 6이 추가\r\n",
        "선형방정식의 절편 항상 1이다.\r\n",
        "\r\n",
        "사이킷런 선형 모델은 자동으로 절편을 추가함 -> 1을 지운다."
      ]
    },
    {
      "cell_type": "code",
      "metadata": {
        "colab": {
          "base_uri": "https://localhost:8080/"
        },
        "id": "wN1cSPa9RFrg",
        "outputId": "705de49e-80b5-4b3f-d3cb-865ac26a67e1"
      },
      "source": [
        "poly = PolynomialFeatures(include_bias=False)\r\n",
        "poly.fit([[2,3]])\r\n",
        "print(poly.transform([[2,3]]))"
      ],
      "execution_count": null,
      "outputs": [
        {
          "output_type": "stream",
          "text": [
            "[[2. 3. 4. 6. 9.]]\n"
          ],
          "name": "stdout"
        }
      ]
    },
    {
      "cell_type": "markdown",
      "metadata": {
        "id": "7WcPDWWfRYZc"
      },
      "source": [
        "위의 방식을 이용할것"
      ]
    },
    {
      "cell_type": "code",
      "metadata": {
        "colab": {
          "base_uri": "https://localhost:8080/"
        },
        "id": "M9sWMvh7RXpo",
        "outputId": "ee554269-8b67-4574-ff9d-e01ceb1f4a2b"
      },
      "source": [
        "poly = PolynomialFeatures(include_bias=False)\r\n",
        "poly.fit(train_input)\r\n",
        "train_poly = poly.transform(train_input)\r\n",
        "print(train_poly.shape)\r\n",
        "poly.get_feature_names() #값이 어떤식으로 얻어졌는지 확인할 수 있음"
      ],
      "execution_count": null,
      "outputs": [
        {
          "output_type": "stream",
          "text": [
            "(42, 9)\n"
          ],
          "name": "stdout"
        },
        {
          "output_type": "execute_result",
          "data": {
            "text/plain": [
              "['x0', 'x1', 'x2', 'x0^2', 'x0 x1', 'x0 x2', 'x1^2', 'x1 x2', 'x2^2']"
            ]
          },
          "metadata": {
            "tags": []
          },
          "execution_count": 6
        }
      ]
    },
    {
      "cell_type": "code",
      "metadata": {
        "id": "-bU6JcngR30q"
      },
      "source": [
        "test_poly = poly.transform(test_input)"
      ],
      "execution_count": null,
      "outputs": []
    },
    {
      "cell_type": "code",
      "metadata": {
        "colab": {
          "base_uri": "https://localhost:8080/"
        },
        "id": "3WbkCo9XR-2w",
        "outputId": "a790e87c-af36-4bce-c425-8dfaff54dca1"
      },
      "source": [
        "from sklearn.linear_model import LinearRegression\r\n",
        "lr = LinearRegression()\r\n",
        "lr.fit(train_poly, train_target)\r\n",
        "print(lr.score(train_poly, train_target))\r\n",
        "print(lr.score(test_poly, test_target))"
      ],
      "execution_count": null,
      "outputs": [
        {
          "output_type": "stream",
          "text": [
            "0.9903183436982124\n",
            "0.9714559911594132\n"
          ],
          "name": "stdout"
        }
      ]
    },
    {
      "cell_type": "markdown",
      "metadata": {
        "id": "bZ6Z34fFSZwM"
      },
      "source": [
        "특성을 더 많이 추가"
      ]
    },
    {
      "cell_type": "code",
      "metadata": {
        "colab": {
          "base_uri": "https://localhost:8080/"
        },
        "id": "uVbjUCYWSZTU",
        "outputId": "b45955c8-df5a-4f19-ed9f-0a22161cac80"
      },
      "source": [
        "poly = PolynomialFeatures(degree=5, include_bias=False)\r\n",
        "poly.fit(train_input)\r\n",
        "train_poly = poly.transform(train_input)\r\n",
        "test_poly = poly.transform(test_input)\r\n",
        "print(train_poly.shape)"
      ],
      "execution_count": null,
      "outputs": [
        {
          "output_type": "stream",
          "text": [
            "(42, 55)\n"
          ],
          "name": "stdout"
        }
      ]
    },
    {
      "cell_type": "code",
      "metadata": {
        "colab": {
          "base_uri": "https://localhost:8080/"
        },
        "id": "d8iXRJKVSxZZ",
        "outputId": "abfefc47-c9c5-4083-b2df-2e5333156099"
      },
      "source": [
        "lr = LinearRegression()\r\n",
        "lr.fit(train_poly, train_target)\r\n",
        "print(lr.score(train_poly, train_target))\r\n",
        "print(lr.score(test_poly, test_target)) #과대적합이 됌."
      ],
      "execution_count": null,
      "outputs": [
        {
          "output_type": "stream",
          "text": [
            "0.9999999999991096\n",
            "-144.40579242335605\n"
          ],
          "name": "stdout"
        }
      ]
    },
    {
      "cell_type": "markdown",
      "metadata": {
        "id": "ZkCOzE85TG50"
      },
      "source": [
        "훈련세트를 과도하게 학습하지 못하도록 하기 위해\r\n",
        "<규제>를 한다.\r\n",
        "#선형회귀 -> 계수의 크기를 작게 만든다."
      ]
    },
    {
      "cell_type": "code",
      "metadata": {
        "id": "a_jNuAvdTW5E"
      },
      "source": [
        "from sklearn.preprocessing import StandardScaler\r\n",
        "ss = StandardScaler() \r\n",
        "ss.fit(train_poly)\r\n",
        "train_scaled = ss.transform(train_poly)\r\n",
        "test_scaled = ss.transform(test_poly)"
      ],
      "execution_count": null,
      "outputs": []
    },
    {
      "cell_type": "markdown",
      "metadata": {
        "id": "pgquQPiJXN0z"
      },
      "source": [
        "릿지, 라쏘 : 선형회귀모델에 규제를 추가한 모델\r\n",
        "(계수에 제곱), (계수의 절댓값)"
      ]
    },
    {
      "cell_type": "code",
      "metadata": {
        "colab": {
          "base_uri": "https://localhost:8080/"
        },
        "id": "YWDpf02JXSxj",
        "outputId": "ce550ac0-f216-42ca-d1c8-8874733a16bf"
      },
      "source": [
        "from sklearn.linear_model import Ridge\r\n",
        "ridge = Ridge()\r\n",
        "ridge.fit(train_scaled, train_target)\r\n",
        "print(ridge.score(train_scaled, train_target))\r\n",
        "print(ridge.score(test_scaled, test_target))"
      ],
      "execution_count": null,
      "outputs": [
        {
          "output_type": "stream",
          "text": [
            "0.9896101671037343\n",
            "0.9790693977615398\n"
          ],
          "name": "stdout"
        }
      ]
    },
    {
      "cell_type": "code",
      "metadata": {
        "colab": {
          "base_uri": "https://localhost:8080/",
          "height": 265
        },
        "id": "CJaUM2pXYY_O",
        "outputId": "8df2fa1c-a74c-464d-e63e-162b24bc944e"
      },
      "source": [
        "import matplotlib.pyplot as plt\r\n",
        "train_score = []\r\n",
        "test_score = []\r\n",
        "\r\n",
        "alpha_list = [0.001, 0.01, 0.1, 1, 10, 100] #alpha: 사람이 임의로 지정한 매개변수(R^2그래프를 그려본후 훈련세트와 테스트 세트의 점수가 가장 가까운 지점 확인)\r\n",
        "for alpha in alpha_list:\r\n",
        "  ridge = Ridge(alpha=alpha)\r\n",
        "  ridge.fit(train_scaled, train_target)\r\n",
        "  train_score.append(ridge.score(train_scaled, train_target))\r\n",
        "  test_score.append(ridge.score(test_scaled, test_target))\r\n",
        "\r\n",
        "plt.plot(np.log10(alpha_list), train_score)\r\n",
        "plt.plot(np.log10(alpha_list), test_score) # log10으로 값을 지수로 표현\r\n",
        "plt.show() #-1임을 확인"
      ],
      "execution_count": null,
      "outputs": [
        {
          "output_type": "display_data",
          "data": {
            "image/png": "[encoded data removed]",
            "text/plain": [
              "<Figure size 432x288 with 1 Axes>"
            ]
          },
          "metadata": {
            "tags": [],
            "needs_background": "light"
          }
        }
      ]
    },
    {
      "cell_type": "code",
      "metadata": {
        "colab": {
          "base_uri": "https://localhost:8080/"
        },
        "id": "WDncp_MwZ6nB",
        "outputId": "25ba5310-81b5-4b9c-a5a0-d881310d1435"
      },
      "source": [
        "ridge = Ridge(alpha=0.1)\r\n",
        "ridge.fit(train_scaled, train_target)\r\n",
        "print(ridge.score(train_scaled, train_target))\r\n",
        "print(ridge.score(test_scaled, test_target))"
      ],
      "execution_count": null,
      "outputs": [
        {
          "output_type": "stream",
          "text": [
            "0.9903815817570366\n",
            "0.9827976465386927\n"
          ],
          "name": "stdout"
        }
      ]
    },
    {
      "cell_type": "code",
      "metadata": {
        "colab": {
          "base_uri": "https://localhost:8080/"
        },
        "id": "UxpLlbJMaWUa",
        "outputId": "744aa810-9be9-435a-a65e-94fdceac8d4d"
      },
      "source": [
        "from sklearn.linear_model import Lasso\r\n",
        "lasso = Lasso()\r\n",
        "lasso.fit(train_scaled, train_target)\r\n",
        "print(lasso.score(train_scaled, train_target))\r\n",
        "print(lasso.score(test_scaled, test_target))"
      ],
      "execution_count": null,
      "outputs": [
        {
          "output_type": "stream",
          "text": [
            "0.9897898972080961\n",
            "0.9800593698421883\n"
          ],
          "name": "stdout"
        }
      ]
    },
    {
      "cell_type": "code",
      "metadata": {
        "colab": {
          "base_uri": "https://localhost:8080/",
          "height": 337
        },
        "id": "0Rij41pGawAh",
        "outputId": "73b97eb5-6204-49ad-ae2d-383f3b9346c2"
      },
      "source": [
        "train_score = []\r\n",
        "test_score = []\r\n",
        "\r\n",
        "alpha_list = [0.001, 0.01, 0.1, 1, 10, 100] #alpha: 사람이 임의로 지정한 매개변수(R^2그래프를 그려본후 훈련세트와 테스트 세트의 점수가 가장 가까운 지점 확인)\r\n",
        "for alpha in alpha_list:\r\n",
        "  lasso = Lasso(alpha=alpha, max_iter=10000)\r\n",
        "  lasso.fit(train_scaled, train_target)\r\n",
        "  train_score.append(lasso.score(train_scaled, train_target))\r\n",
        "  test_score.append(lasso.score(test_scaled, test_target))\r\n",
        "\r\n",
        "plt.plot(np.log10(alpha_list), train_score)\r\n",
        "plt.plot(np.log10(alpha_list), test_score) # log10으로 값을 지수로 표현\r\n",
        "plt.show() #-1임을 확인"
      ],
      "execution_count": null,
      "outputs": [
        {
          "output_type": "stream",
          "text": [
            "/usr/local/lib/python3.6/dist-packages/sklearn/linear_model/_coordinate_descent.py:476: ConvergenceWarning: Objective did not converge. You might want to increase the number of iterations. Duality gap: 18778.697957792876, tolerance: 518.2793833333334\n",
            "  positive)\n",
            "/usr/local/lib/python3.6/dist-packages/sklearn/linear_model/_coordinate_descent.py:476: ConvergenceWarning: Objective did not converge. You might want to increase the number of iterations. Duality gap: 12972.821345404844, tolerance: 518.2793833333334\n",
            "  positive)\n"
          ],
          "name": "stderr"
        },
        {
          "output_type": "display_data",
          "data": {
            "image/png": "[encoded data removed]",
            "text/plain": [
              "<Figure size 432x288 with 1 Axes>"
            ]
          },
          "metadata": {
            "tags": [],
            "needs_background": "light"
          }
        }
      ]
    },
    {
      "cell_type": "code",
      "metadata": {
        "colab": {
          "base_uri": "https://localhost:8080/"
        },
        "id": "tn-j2kQ3bVxy",
        "outputId": "2c09a57f-1aa7-459b-dfd5-5e4e5156317b"
      },
      "source": [
        "lasso = Lasso(alpha=10)\r\n",
        "lasso.fit(train_scaled, train_target)\r\n",
        "print(lasso.score(train_scaled, train_target))\r\n",
        "print(lasso.score(test_scaled, test_target))\r\n",
        "print(np.sum(lasso.coef_ == 0)) #-------------------왜 0으로 만들지?"
      ],
      "execution_count": null,
      "outputs": [
        {
          "output_type": "stream",
          "text": [
            "0.9888067471131867\n",
            "0.9824470598706695\n",
            "40\n"
          ],
          "name": "stdout"
        }
      ]
    },
    {
      "cell_type": "markdown",
      "metadata": {
        "id": "kSVuJHXMdvc7"
      },
      "source": [
        "로지스틱 회귀"
      ]
    },
    {
      "cell_type": "code",
      "metadata": {
        "colab": {
          "base_uri": "https://localhost:8080/"
        },
        "id": "MFCipirBdzZT",
        "outputId": "e467dd8a-b96a-41a6-db66-72240dcb6e57"
      },
      "source": [
        "fish = pd.read_csv('https://bit.ly/fish_csv')\r\n",
        "print(fish.head())\r\n",
        "print(pd.unique(fish['Species']))"
      ],
      "execution_count": null,
      "outputs": [
        {
          "output_type": "stream",
          "text": [
            "  Species  Weight  Length  Diagonal   Height   Width\n",
            "0   Bream   242.0    25.4      30.0  11.5200  4.0200\n",
            "1   Bream   290.0    26.3      31.2  12.4800  4.3056\n",
            "2   Bream   340.0    26.5      31.1  12.3778  4.6961\n",
            "3   Bream   363.0    29.0      33.5  12.7300  4.4555\n",
            "4   Bream   430.0    29.0      34.0  12.4440  5.1340\n",
            "['Bream' 'Roach' 'Whitefish' 'Parkki' 'Perch' 'Pike' 'Smelt']\n"
          ],
          "name": "stdout"
        }
      ]
    },
    {
      "cell_type": "code",
      "metadata": {
        "colab": {
          "base_uri": "https://localhost:8080/"
        },
        "id": "tzTm8GTEeh_p",
        "outputId": "38c6f191-9197-4201-96ba-6c595bd85e24"
      },
      "source": [
        "fish_input = fish[['Weight', 'Length', 'Diagonal', 'Height', 'Width']].to_numpy()\r\n",
        "print(fish_input[:5])\r\n",
        "fish_target = fish['Species'].to_numpy()"
      ],
      "execution_count": null,
      "outputs": [
        {
          "output_type": "stream",
          "text": [
            "[[242.      25.4     30.      11.52     4.02  ]\n",
            " [290.      26.3     31.2     12.48     4.3056]\n",
            " [340.      26.5     31.1     12.3778   4.6961]\n",
            " [363.      29.      33.5     12.73     4.4555]\n",
            " [430.      29.      34.      12.444    5.134 ]]\n"
          ],
          "name": "stdout"
        }
      ]
    },
    {
      "cell_type": "code",
      "metadata": {
        "id": "GqljEFHRe-Oi"
      },
      "source": [
        "train_input, test_input, train_target, test_target = train_test_split(fish_input, fish_target, random_state = 42)\r\n",
        "ss = StandardScaler()\r\n",
        "ss.fit(train_input)\r\n",
        "train_scaled = ss.transform(train_input)\r\n",
        "test_scaled = ss.transform(test_input)"
      ],
      "execution_count": null,
      "outputs": []
    },
    {
      "cell_type": "markdown",
      "metadata": {
        "id": "oEVcC45Uftzz"
      },
      "source": [
        "k-최근접 이웃 분류기를 통해 (이웃의 클래스 비융)확률 계산\r\n",
        "\r\n",
        "어떤 데이터가 주어졌을 떄 그 데이터를 가지고 어떤 Species가 있을지 확률 계산"
      ]
    },
    {
      "cell_type": "code",
      "metadata": {
        "colab": {
          "base_uri": "https://localhost:8080/"
        },
        "id": "FPq0gxMIfowQ",
        "outputId": "f4818c82-c92f-4308-bcec-e9d4d968da7e"
      },
      "source": [
        "from sklearn.neighbors import KNeighborsClassifier\r\n",
        "kn = KNeighborsClassifier(n_neighbors=3)\r\n",
        "kn.fit(train_scaled, train_target)\r\n",
        "print(kn.score(train_scaled, train_target))\r\n",
        "print(kn.score(test_scaled, test_target))"
      ],
      "execution_count": null,
      "outputs": [
        {
          "output_type": "stream",
          "text": [
            "0.8907563025210085\n",
            "0.85\n"
          ],
          "name": "stdout"
        }
      ]
    },
    {
      "cell_type": "code",
      "metadata": {
        "colab": {
          "base_uri": "https://localhost:8080/"
        },
        "id": "1txYhevH5spF",
        "outputId": "4c7f5445-3497-4d14-ddee-3534c007b7b1"
      },
      "source": [
        "proba = kn.predict_proba(test_scaled[:5])\r\n",
        "print(kn.classes_)\r\n",
        "print(np.round(proba, decimals=4))"
      ],
      "execution_count": null,
      "outputs": [
        {
          "output_type": "stream",
          "text": [
            "['Bream' 'Parkki' 'Perch' 'Pike' 'Roach' 'Smelt' 'Whitefish']\n",
            "[[0.     0.     1.     0.     0.     0.     0.    ]\n",
            " [0.     0.     0.     0.     0.     1.     0.    ]\n",
            " [0.     0.     0.     1.     0.     0.     0.    ]\n",
            " [0.     0.     0.6667 0.     0.3333 0.     0.    ]\n",
            " [0.     0.     0.6667 0.     0.3333 0.     0.    ]]\n"
          ],
          "name": "stdout"
        }
      ]
    },
    {
      "cell_type": "code",
      "metadata": {
        "colab": {
          "base_uri": "https://localhost:8080/"
        },
        "id": "wbntK1Yb7IzR",
        "outputId": "1a14a66b-6e37-472f-a1c9-72ae5746c283"
      },
      "source": [
        "distances, indexs = kn.kneighbors(test_scaled[3:4]) #--------[3]으로 하면 안댐.?\r\n",
        "print(train_target[indexs])"
      ],
      "execution_count": null,
      "outputs": [
        {
          "output_type": "stream",
          "text": [
            "[['Roach' 'Perch' 'Perch']]\n"
          ],
          "name": "stdout"
        }
      ]
    },
    {
      "cell_type": "code",
      "metadata": {
        "colab": {
          "base_uri": "https://localhost:8080/",
          "height": 265
        },
        "id": "49ukAxfD-QmW",
        "outputId": "8c888d9f-caa9-4612-cb77-28e96705ee22"
      },
      "source": [
        "z = np.arange(-5, 5, 0.1)\r\n",
        "phi = 1 / (1 + np.exp(-z)) # 시그모이드 함수\r\n",
        "plt.plot(z, phi)\r\n",
        "plt.show()"
      ],
      "execution_count": null,
      "outputs": [
        {
          "output_type": "display_data",
          "data": {
            "image/png": "[encoded data removed]",
            "text/plain": [
              "<Figure size 432x288 with 1 Axes>"
            ]
          },
          "metadata": {
            "tags": [],
            "needs_background": "light"
          }
        }
      ]
    },
    {
      "cell_type": "code",
      "metadata": {
        "id": "7RBqyJYn_Rw6"
      },
      "source": [
        "#Bream과 Smelt 종류만 골라내기\r\n",
        "bream_smelt_indexs = (train_target == 'Bream') | (train_target == 'Smelt') #Bream | Smelt -> True\r\n",
        "train_bream_smelt = train_scaled[bream_smelt_indexs]\r\n",
        "target_bream_smelt = train_target[bream_smelt_indexs]"
      ],
      "execution_count": null,
      "outputs": []
    },
    {
      "cell_type": "code",
      "metadata": {
        "colab": {
          "base_uri": "https://localhost:8080/"
        },
        "id": "iaAPpQyBAAYT",
        "outputId": "e1698c62-5073-4608-8ddb-7d7f5bc0b876"
      },
      "source": [
        "from sklearn.linear_model import LogisticRegression\r\n",
        "lr = LogisticRegression()\r\n",
        "lr.fit(train_bream_smelt, target_bream_smelt)\r\n",
        "print(lr.predict(train_bream_smelt[:5]))\r\n",
        "print(lr.classes_)\r\n",
        "print(lr.predict_proba(train_bream_smelt[:5]))"
      ],
      "execution_count": null,
      "outputs": [
        {
          "output_type": "stream",
          "text": [
            "['Bream' 'Smelt' 'Bream' 'Bream' 'Bream']\n",
            "['Bream' 'Smelt']\n",
            "[[0.99759855 0.00240145]\n",
            " [0.02735183 0.97264817]\n",
            " [0.99486072 0.00513928]\n",
            " [0.98584202 0.01415798]\n",
            " [0.99767269 0.00232731]]\n"
          ],
          "name": "stdout"
        }
      ]
    },
    {
      "cell_type": "markdown",
      "metadata": {
        "id": "hPAbvkSeBdJV"
      },
      "source": [
        "Logistic Regression : 출력이 0, 1사이\r\n",
        "\r\n",
        "coefficients, intercept = 0\r\n",
        "\r\n",
        "log-odds 계산 = P(A) / 1-P(A)\r\n",
        "\r\n",
        "Sigmoid Function (phi)\r\n"
      ]
    },
    {
      "cell_type": "code",
      "metadata": {
        "colab": {
          "base_uri": "https://localhost:8080/"
        },
        "id": "S4KdIr3uCfTb",
        "outputId": "77424abf-32f6-4d65-8c83-7475fe38a2c1"
      },
      "source": [
        "print(lr.coef_, lr.intercept_) #Logistig Regression -> trained coefficient and intercept\r\n",
        "#---------------------어떻게 학습을 한거지"
      ],
      "execution_count": null,
      "outputs": [
        {
          "output_type": "stream",
          "text": [
            "[[-0.4037798  -0.57620209 -0.66280298 -1.01290277 -0.73168947]] [-2.16155132]\n"
          ],
          "name": "stdout"
        }
      ]
    },
    {
      "cell_type": "markdown",
      "metadata": {
        "id": "YHw8mzQ_DyE7"
      },
      "source": [
        "-0.404 x Weight -0.576 x Length -0.663 x Diagonal -1.013 x Height - 0.732 x width - 2.161"
      ]
    },
    {
      "cell_type": "code",
      "metadata": {
        "colab": {
          "base_uri": "https://localhost:8080/"
        },
        "id": "GCW3Rcx0EFDH",
        "outputId": "892cd26d-1649-41ef-f33d-4891465db36a"
      },
      "source": [
        "#Logistic Regression -> decision_funnction으로 위의 식 결과값 확인 가능\r\n",
        "decisions = lr.decision_function(train_bream_smelt[:5])\r\n",
        "print(decisions)"
      ],
      "execution_count": null,
      "outputs": [
        {
          "output_type": "stream",
          "text": [
            "[-6.02927744  3.57123907 -5.26568906 -4.24321775 -6.0607117 ]\n"
          ],
          "name": "stdout"
        }
      ]
    },
    {
      "cell_type": "code",
      "metadata": {
        "colab": {
          "base_uri": "https://localhost:8080/"
        },
        "id": "f7752yr0FQYo",
        "outputId": "19fc7a2f-36ce-41ae-b862-1a1474dc3a5f"
      },
      "source": [
        "from scipy.special import expit\r\n",
        "print(expit(decisions)) #Sigmoid함수에 대입해주는 함수"
      ],
      "execution_count": null,
      "outputs": [
        {
          "output_type": "stream",
          "text": [
            "[0.00240145 0.97264817 0.00513928 0.01415798 0.00232731]\n"
          ],
          "name": "stdout"
        }
      ]
    },
    {
      "cell_type": "code",
      "metadata": {
        "colab": {
          "base_uri": "https://localhost:8080/"
        },
        "id": "GknmsKqzJIhV",
        "outputId": "e2933b6d-e62a-4c2d-f973-5d1417c8dbe4"
      },
      "source": [
        "lr = LogisticRegression(C = 20, max_iter=1000) #C :(기본값:1 , 클 수록 규제 완화 ) max_iter : 반복횟수\r\n",
        "lr.fit(train_scaled, train_target)\r\n",
        "print(lr.score(train_scaled, train_target))\r\n",
        "print(lr.score(test_scaled, test_target))"
      ],
      "execution_count": null,
      "outputs": [
        {
          "output_type": "stream",
          "text": [
            "0.9327731092436975\n",
            "0.925\n"
          ],
          "name": "stdout"
        }
      ]
    },
    {
      "cell_type": "code",
      "metadata": {
        "colab": {
          "base_uri": "https://localhost:8080/"
        },
        "id": "5O4pZ0q2J0bq",
        "outputId": "18516e61-a66f-41e5-a31c-feb0f8be29c9"
      },
      "source": [
        "print(lr.predict(test_scaled[:5]))\r\n",
        "proba = lr.predict_proba(test_scaled[:5])\r\n",
        "print(np.round(proba, decimals=3))\r\n",
        "print(lr.classes_)"
      ],
      "execution_count": null,
      "outputs": [
        {
          "output_type": "stream",
          "text": [
            "['Perch' 'Smelt' 'Pike' 'Roach' 'Perch']\n",
            "[[0.    0.014 0.841 0.    0.136 0.007 0.003]\n",
            " [0.    0.003 0.044 0.    0.007 0.946 0.   ]\n",
            " [0.    0.    0.034 0.935 0.015 0.016 0.   ]\n",
            " [0.011 0.034 0.306 0.007 0.567 0.    0.076]\n",
            " [0.    0.    0.904 0.002 0.089 0.002 0.001]]\n",
            "['Bream' 'Parkki' 'Perch' 'Pike' 'Roach' 'Smelt' 'Whitefish']\n"
          ],
          "name": "stdout"
        }
      ]
    },
    {
      "cell_type": "code",
      "metadata": {
        "colab": {
          "base_uri": "https://localhost:8080/"
        },
        "id": "eFMISymXKiQi",
        "outputId": "7154e10e-52c4-4ee9-dbca-9f9a8ab7c3f1"
      },
      "source": [
        "print(lr.coef_.shape, lr.intercept_.shape)"
      ],
      "execution_count": null,
      "outputs": [
        {
          "output_type": "stream",
          "text": [
            "(7, 5) (7,)\n"
          ],
          "name": "stdout"
        }
      ]
    },
    {
      "cell_type": "markdown",
      "metadata": {
        "id": "gUVXlqMgKt-W"
      },
      "source": [
        "클래스마다 z값을 하나씩 계산(다중 분류)\r\n",
        "\r\n",
        "가장 높은 z값을 출력하는 클래스가 예측클래스\r\n",
        "\r\n",
        "소프트맥스 함수를 사용 ->ㅣ 7개의 z값을 확률로 변환"
      ]
    },
    {
      "cell_type": "code",
      "metadata": {
        "colab": {
          "base_uri": "https://localhost:8080/"
        },
        "id": "SslSWTFTK-2I",
        "outputId": "813cd635-3554-4fb3-bfd7-5ce0ea2ba321"
      },
      "source": [
        "decision = lr.decision_function(test_scaled[:5])\r\n",
        "print(np.round(decision, decimals=2))"
      ],
      "execution_count": null,
      "outputs": [
        {
          "output_type": "stream",
          "text": [
            "[[ -6.5    1.03   5.16  -2.73   3.34   0.33  -0.63]\n",
            " [-10.86   1.93   4.77  -2.4    2.98   7.84  -4.26]\n",
            " [ -4.34  -6.23   3.17   6.49   2.36   2.42  -3.87]\n",
            " [ -0.68   0.45   2.65  -1.19   3.26  -5.75   1.26]\n",
            " [ -6.4   -1.99   5.82  -0.11   3.5   -0.11  -0.71]]\n"
          ],
          "name": "stdout"
        }
      ]
    },
    {
      "cell_type": "code",
      "metadata": {
        "colab": {
          "base_uri": "https://localhost:8080/"
        },
        "id": "BLRxPhpfMoKd",
        "outputId": "bd70956e-58a0-4200-d774-8c8c2f2e679a"
      },
      "source": [
        "from scipy.special import softmax\r\n",
        "proba = softmax(decision, axis=1)\r\n",
        "print(np.round(proba, decimals=3)) #------------------위의 predict_proba랑 비교해보면 결과값이 일치하는데 그럼 이 softmax함수를 쓰는 이유가 뭐지ㅏㅇㄴㅁ?"
      ],
      "execution_count": null,
      "outputs": [
        {
          "output_type": "stream",
          "text": [
            "[[0.    0.014 0.841 0.    0.136 0.007 0.003]\n",
            " [0.    0.003 0.044 0.    0.007 0.946 0.   ]\n",
            " [0.    0.    0.034 0.935 0.015 0.016 0.   ]\n",
            " [0.011 0.034 0.306 0.007 0.567 0.    0.076]\n",
            " [0.    0.    0.904 0.002 0.089 0.002 0.001]]\n"
          ],
          "name": "stdout"
        }
      ]
    }
  ]
}